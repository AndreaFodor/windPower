{
 "cells": [
  {
   "cell_type": "markdown",
   "id": "be02e837-c061-45de-8314-4327a38cf3dd",
   "metadata": {},
   "source": [
    "# Summary of this notebook\n",
    "The weather data in the folder `windfarm_weather_data` initially contained data for farms that are planned, but not in service. In this notebook: \n",
    "- Using the file `hydroquebec_wind_farms.csv`, this notebook extracts the names of in-service wind farms, assigns an integer `label` to each of them and saves in `hydroquebec_wind_farms_in_service.csv`.\n",
    "- Move the weather files of farms in service to the folder `windfarm_weather_data_in_service` from the original folder `windfarm_weather_data`.\n",
    "- Finally in each of the weather files in the folder `windfarm_weather_data_in_service`, the column names corresponding to `temperature`,`relative_humidity_2m`,`wind_speed_10m`,`wind_direction_10m`,and `location` were renamed with a `_label` at the end corresponding to label of the in-service wind farm."
   ]
  },
  {
   "cell_type": "code",
   "execution_count": 1,
   "id": "6c08797e-1021-48d5-b99b-0c3d81ab578d",
   "metadata": {},
   "outputs": [],
   "source": [
    "import os\n",
    "import pandas as pd"
   ]
  },
  {
   "cell_type": "markdown",
   "id": "be64c01d",
   "metadata": {},
   "source": [
    "## Extract and save in service wind farms"
   ]
  },
  {
   "cell_type": "markdown",
   "id": "9b57e40a-f8f5-4fae-95bf-ac001811252e",
   "metadata": {},
   "source": [
    "We have a file of all windfarms, including some under construction projects. We will remove the unfinished windfarms, and we will also add a column with numerical labels for the wind farms to make our labelling in the large file simpler."
   ]
  },
  {
   "cell_type": "code",
   "execution_count": 2,
   "id": "459b9e24-5ed3-4294-9fa3-8ac37bb3b421",
   "metadata": {},
   "outputs": [],
   "source": [
    "#deletes all windfarms labelled 'planned'\n",
    "# Load the CSV file\n",
    "wf = pd.read_csv(\"hydroquebec_wind_farms.csv\")\n",
    "\n",
    "# Remove rows where the 'status' column has the value 'Planned'\n",
    "wf = wf[wf['status'] != 'Planned']"
   ]
  },
  {
   "cell_type": "code",
   "execution_count": 3,
   "id": "dd9d7873-0f93-4aaf-84c4-7e7848db4549",
   "metadata": {},
   "outputs": [],
   "source": [
    "# adds a new column with numerical label\n",
    "labels = list(range(1, len(wf) + 1))\n",
    "\n",
    "# Insert the new column next to 'label'\n",
    "wf.insert(1, 'labels', labels)"
   ]
  },
  {
   "cell_type": "code",
   "execution_count": 4,
   "id": "313bdb78",
   "metadata": {},
   "outputs": [],
   "source": [
    "#save a new csv\n",
    "wf.to_csv(\"hydroquebec_wind_farms_in_service.csv\", index=False)"
   ]
  },
  {
   "cell_type": "markdown",
   "id": "28ca8d6e-cfea-405b-81d4-cb057f158f93",
   "metadata": {},
   "source": [
    "## Move weather files of in service wind farms\n",
    "Now we will use this file to separate out the weather data files that corresond to wind farms which are In Service."
   ]
  },
  {
   "cell_type": "code",
   "execution_count": 5,
   "id": "15ea64ff-6a0a-4681-becd-235cca83c898",
   "metadata": {},
   "outputs": [],
   "source": [
    "# Paths\n",
    "wf_csv_path = \"hydroquebec_wind_farms_in_service.csv\"\n",
    "source_folder = \"../windfarm_weather_data_2019-2023\"\n",
    "destination_folder = \"../windfarm_weather_data_in_service\"\n"
   ]
  },
  {
   "cell_type": "code",
   "execution_count": 6,
   "id": "a9e93131-dfd7-4ee2-9bae-ed34b1628473",
   "metadata": {},
   "outputs": [],
   "source": [
    "# checking that the destination folder exists\n",
    "os.makedirs(destination_folder, exist_ok=True)"
   ]
  },
  {
   "cell_type": "code",
   "execution_count": 7,
   "id": "3c676f00-a031-46f9-8f05-3a135c876042",
   "metadata": {},
   "outputs": [],
   "source": [
    "# read csv\n",
    "wf = pd.read_csv(wf_csv_path)"
   ]
  },
  {
   "cell_type": "code",
   "execution_count": 9,
   "id": "74777dca-a31e-452b-a57e-f998464167c2",
   "metadata": {},
   "outputs": [
    {
     "name": "stdout",
     "output_type": "stream",
     "text": [
      "Moved: Baie-des-Sables_wind_farm_hourly_weather_2019-2023.csv\n",
      "Moved: Carleton_wind_farm_hourly_weather_2019-2023.csv\n",
      "Moved: Mont-Rothery_wind_farm_hourly_weather_2019-2023.csv\n",
      "Moved: De_L'Érable_wind_farm_hourly_weather_2019-2023.csv\n",
      "Moved: Des_Moulins_wind_farm_hourly_weather_2019-2023.csv\n",
      "Moved: Frampton_wind_farm_hourly_weather_2019-2023.csv\n",
      "Moved: Gros-Morne_wind_farm_hourly_weather_2019-2023.csv\n",
      "Moved: Côte-de-Beaupré_wind_farm_hourly_weather_2019-2023.csv\n",
      "Moved: La_Mitis_wind_farm_hourly_weather_2019-2023.csv\n",
      "Moved: Lac-Alfred_wind_farm_hourly_weather_2019-2023.csv\n",
      "Moved: L'Anse-à-Valleau_wind_farm_hourly_weather_2019-2023.csv\n",
      "Moved: Le_Granit_wind_farm_hourly_weather_2019-2023.csv\n",
      "Moved: Le_Plateau_wind_farm_hourly_weather_2019-2023.csv\n",
      "Moved: Le_Plateau_2_wind_farm_hourly_weather_2019-2023.csv\n",
      "Moved: Massif_du_Sud_wind_farm_hourly_weather_2019-2023.csv\n",
      "Moved: Montagne_Sèche_wind_farm_hourly_weather_2019-2023.csv\n",
      "Moved: Montérégie_wind_farm_hourly_weather_2019-2023.csv\n",
      "Moved: Mont-Louis_wind_farm_hourly_weather_2019-2023.csv\n",
      "Moved: New_Richmond_wind_farm_hourly_weather_2019-2023.csv\n",
      "Moved: Pierre-De_Saurel_wind_farm_hourly_weather_2019-2023.csv\n",
      "Moved: Mesgi'g_Ugju's'n_wind_farm_hourly_weather_2019-2023.csv\n",
      "Moved: Rivière-du-Moulin_wind_farm_hourly_weather_2019-2023.csv\n",
      "Moved: Des_Cultures_wind_farm_hourly_weather_2019-2023.csv\n",
      "Moved: Saint-Damase_wind_farm_hourly_weather_2019-2023.csv\n",
      "Moved: Saint-Philémon_wind_farm_hourly_weather_2019-2023.csv\n",
      "Moved: Saint-Robert-Bellarmin_wind_farm_hourly_weather_2019-2023.csv\n",
      "Moved: Saint-Ulric-Saint-Léandre_wind_farm_hourly_weather_2019-2023.csv\n",
      "Moved: Seigneurie_de_Beaupré_2_wind_farm_hourly_weather_2019-2023.csv\n",
      "Moved: Seigneurie_de_Beaupré_3_wind_farm_hourly_weather_2019-2023.csv\n",
      "Moved: Seigneurie_de_Beaupré_4_wind_farm_hourly_weather_2019-2023.csv\n",
      "Moved: Témiscouata_wind_farm_hourly_weather_2019-2023.csv\n",
      "Moved: Témiscouata_2_wind_farm_hourly_weather_2019-2023.csv\n",
      "Moved: Belle-Rivière_wind_farm_hourly_weather_2019-2023.csv\n",
      "Moved: Vents_du_Kempt_wind_farm_hourly_weather_2019-2023.csv\n",
      "Moved: Roncevaux_wind_farm_hourly_weather_2019-2023.csv\n",
      "Moved: Nicolas_Riou_wind_farm_hourly_weather_2019-2023.csv\n",
      "Moved: Mont_Sainte-Marguerite_wind_farm_hourly_weather_2019-2023.csv\n",
      "Moved: Viger-Denonville_wind_farm_hourly_weather_2019-2023.csv\n",
      "Moved: Dune-du-Nord_wind_farm_hourly_weather_2019-2023.csv\n"
     ]
    }
   ],
   "source": [
    "# Move files\n",
    "for filename in wf[\"name\"]:\n",
    "    fullfilename = filename.replace(' ','_') + \"_hourly_weather_2019-2023.csv\"\n",
    "    src_path = os.path.join(source_folder, fullfilename)\n",
    "    dst_path = os.path.join(destination_folder, fullfilename)\n",
    "\n",
    "    if os.path.exists(src_path):\n",
    "        os.rename(src_path, dst_path)\n",
    "        print(f\"Moved: {fullfilename}\")\n",
    "    else:\n",
    "        print(f\"File not found: {fullfilename}\")"
   ]
  },
  {
   "cell_type": "markdown",
   "id": "1185919c-694b-4b81-b052-96400b218c81",
   "metadata": {},
   "source": [
    "We have now moved all the relevant csv files into one folder. They all the same column names and I want to add the labels to the column names so they can be differentiated in the big csv.\n",
    "\n",
    "## WARNING this code overwrites the files in the folder titled \"windfarm_weather_data_in_service! Save a copy of this folder before running!"
   ]
  },
  {
   "cell_type": "markdown",
   "id": "e097f64f",
   "metadata": {},
   "source": [
    "## Modify the column names with wind-farm labels"
   ]
  },
  {
   "cell_type": "code",
   "execution_count": 10,
   "id": "2a26ff60-e6cc-4c7e-9024-a99cf026cd33",
   "metadata": {},
   "outputs": [
    {
     "data": {
      "text/plain": [
       "Index(['name', 'labels', 'project_type', 'capacity_MW', 'region', 'status',\n",
       "       'commissioning_date', 'latitude', 'longitude'],\n",
       "      dtype='object')"
      ]
     },
     "execution_count": 10,
     "metadata": {},
     "output_type": "execute_result"
    }
   ],
   "source": [
    "wf.columns"
   ]
  },
  {
   "cell_type": "code",
   "execution_count": 12,
   "id": "2be77365-c73f-4da8-a95f-f70f0ce44e4f",
   "metadata": {},
   "outputs": [
    {
     "name": "stdout",
     "output_type": "stream",
     "text": [
      "Updated columns in Baie-des-Sables wind farm\n",
      "Updated columns in Carleton wind farm\n",
      "Updated columns in Mont-Rothery wind farm\n",
      "Updated columns in De L'Érable wind farm\n",
      "Updated columns in Des Moulins wind farm\n",
      "Updated columns in Frampton wind farm\n",
      "Updated columns in Gros-Morne wind farm\n",
      "Updated columns in Côte-de-Beaupré wind farm\n",
      "Updated columns in La Mitis wind farm\n",
      "Updated columns in Lac-Alfred wind farm\n",
      "Updated columns in L'Anse-à-Valleau wind farm\n",
      "Updated columns in Le Granit wind farm\n",
      "Updated columns in Le Plateau wind farm\n",
      "Updated columns in Le Plateau 2 wind farm\n",
      "Updated columns in Massif du Sud wind farm\n",
      "Updated columns in Montagne Sèche wind farm\n",
      "Updated columns in Montérégie wind farm\n",
      "Updated columns in Mont-Louis wind farm\n",
      "Updated columns in New Richmond wind farm\n",
      "Updated columns in Pierre-De Saurel wind farm\n",
      "Updated columns in Mesgi'g Ugju's'n wind farm\n",
      "Updated columns in Rivière-du-Moulin wind farm\n",
      "Updated columns in Des Cultures wind farm\n",
      "Updated columns in Saint-Damase wind farm\n",
      "Updated columns in Saint-Philémon wind farm\n",
      "Updated columns in Saint-Robert-Bellarmin wind farm\n",
      "Updated columns in Saint-Ulric-Saint-Léandre wind farm\n",
      "Updated columns in Seigneurie de Beaupré 2 wind farm\n",
      "Updated columns in Seigneurie de Beaupré 3 wind farm\n",
      "Updated columns in Seigneurie de Beaupré 4 wind farm\n",
      "Updated columns in Témiscouata wind farm\n",
      "Updated columns in Témiscouata 2 wind farm\n",
      "Updated columns in Belle-Rivière wind farm\n",
      "Updated columns in Vents du Kempt wind farm\n",
      "Updated columns in Roncevaux wind farm\n",
      "Updated columns in Nicolas Riou wind farm\n",
      "Updated columns in Mont Sainte-Marguerite wind farm\n",
      "Updated columns in Viger-Denonville wind farm\n",
      "Updated columns in Dune-du-Nord wind farm\n"
     ]
    }
   ],
   "source": [
    "for filename, label in zip(wf[\"name\"], wf[\"labels\"]):\n",
    "    \n",
    "    file_path = os.path.join(destination_folder, filename.replace(' ','_') + \"_hourly_weather_2019-2023.csv\")\n",
    "\n",
    "    if os.path.exists(file_path):\n",
    "        try:\n",
    "            df = pd.read_csv(file_path)\n",
    "\n",
    "            new_columns = [f\"{column}\" for column in df.columns[0:2]] + [f\"{column}_{label}\" for column in df.columns[2:]]\n",
    "            df.columns = new_columns\n",
    "\n",
    "            # Save the file (overwrite)\n",
    "            df.to_csv(file_path, index=False)\n",
    "            print(f\"Updated columns in {filename}\")\n",
    "        except Exception as e:\n",
    "            print(f\"Error processing {filename}: {e}\")\n",
    "    else:\n",
    "        print(f\"File not found: {filename}\")"
   ]
  }
 ],
 "metadata": {
  "kernelspec": {
   "display_name": "erdos_summer_2025",
   "language": "python",
   "name": "python3"
  },
  "language_info": {
   "codemirror_mode": {
    "name": "ipython",
    "version": 3
   },
   "file_extension": ".py",
   "mimetype": "text/x-python",
   "name": "python",
   "nbconvert_exporter": "python",
   "pygments_lexer": "ipython3",
   "version": "3.12.10"
  }
 },
 "nbformat": 4,
 "nbformat_minor": 5
}
