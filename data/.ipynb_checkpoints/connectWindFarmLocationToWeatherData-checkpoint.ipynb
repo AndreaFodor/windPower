{
 "cells": [
  {
   "cell_type": "code",
   "execution_count": 56,
   "id": "1574f538",
   "metadata": {},
   "outputs": [],
   "source": [
    "import pandas as pd\n",
    "import os"
   ]
  },
  {
   "cell_type": "code",
   "execution_count": null,
   "id": "3e071e55",
   "metadata": {},
   "outputs": [
    {
     "name": "stdout",
     "output_type": "stream",
     "text": [
      "CHECK climate_hourly_QC_7098600_2019_P1H.csv\n",
      "CHECK climate_hourly_QC_7098600_2020_P1H.csv\n",
      "EMPTY  climate_hourly_QC_7053254_2020_P1H.csv\n",
      "CHECK climate_hourly_QC_7098600_2023_P1H.csv\n"
     ]
    }
   ],
   "source": [
    "# get all the coordinates of the weather stations from the weather data\n",
    "ls_weather = os.listdir('./weather')\n",
    "station_info = []\n",
    "for file in ls_weather:\n",
    "    try:\n",
    "         df = pd.read_csv(f'./weather/{file}', encoding='unicode_escape')\n",
    "    except:\n",
    "         print('EMPTY ', file)\n",
    "    try:\n",
    "        station_info.append([df['Climate ID'].unique()[0], float(df['Longitude (x)'].unique()[0]), float(df['Latitude (y)'].unique()[0])])\n",
    "    except:\n",
    "         print('CHECK', file)\n",
    "df_stations = pd.DataFrame(station_info, columns=['climateID', 'longitude', 'latitude'])\n",
    "df_stations.drop_duplicates(inplace=True)"
   ]
  },
  {
   "cell_type": "code",
   "execution_count": 106,
   "id": "cebad088",
   "metadata": {},
   "outputs": [],
   "source": [
    "from scipy.spatial.distance import cdist\n",
    "\n",
    "df_wf = pd.read_csv('hydroquebec_wind_farms.csv')\n",
    "\n",
    "# Calculate distance between the wind farms and weather stations\n",
    "# !!! THIS USES EUCLIDEAN METRIC, RESULTS NOT INTERPRETABLE AS REAL DISTANCE !!!\n",
    "distance = cdist(df_wf[['longitude', 'latitude']], df_stations[['longitude', 'latitude']], metric='euclidean')\n",
    "\n",
    "# New dataframe contains wind farms as well as the ID of weather station closest to them\n",
    "df_wf_station = df_wf.join(df_stations.iloc[distance.argmin(axis=1)].reset_index(), rsuffix='_station')\n",
    "df_wf_station.describe()\n",
    "\n",
    "# Added the calculated 'distance' to the new dataframe\n",
    "df_wf_station['distance_to_weather_station'] = distance.min(axis=1)\n",
    "\n",
    "# Save the new dataframe\n",
    "df_wf_station.to_csv('wind_farms_with_station_climateID.csv', index=False)"
   ]
  },
  {
   "cell_type": "code",
   "execution_count": null,
   "id": "23519cb7",
   "metadata": {},
   "outputs": [
    {
     "data": {
      "text/plain": [
       "array([np.int64(7055122), np.int64(7051163), np.int64(7028442), '701Q004',\n",
       "       np.int64(7042395), np.int64(7052603), np.int64(7027039),\n",
       "       np.int64(7018561), '704F0PN', np.int64(7060400), '702LED4',\n",
       "       np.int64(7054096), np.int64(7056616), np.int64(7066686), '7043BP9',\n",
       "       '7053KGR', np.int64(7103539), np.int64(7028123), '704S001'],\n",
       "      dtype=object)"
      ]
     },
     "execution_count": 107,
     "metadata": {},
     "output_type": "execute_result"
    }
   ],
   "source": [
    "df_wf_station.climateID.unique()\n",
    "### seems that the empty files are not relevant"
   ]
  },
  {
   "cell_type": "code",
   "execution_count": 112,
   "id": "4f98162b",
   "metadata": {},
   "outputs": [
    {
     "data": {
      "text/plain": [
       "Index(['name', 'project_type', 'capacity_MW', 'region', 'status',\n",
       "       'commissioning_date', 'latitude', 'longitude', 'index', 'climateID',\n",
       "       'longitude_station', 'latitude_station', 'distance_to_weather_station'],\n",
       "      dtype='object')"
      ]
     },
     "execution_count": 112,
     "metadata": {},
     "output_type": "execute_result"
    }
   ],
   "source": [
    "df_wf_station.columns"
   ]
  },
  {
   "cell_type": "code",
   "execution_count": 132,
   "id": "ddfa9ef7",
   "metadata": {},
   "outputs": [
    {
     "data": {
      "application/vnd.plotly.v1+json": {
       "config": {
        "plotlyServerURL": "https://plot.ly"
       },
       "data": [
        {
         "lat": [
          48.70221,
          48.202737,
          48.978875,
          46.096983,
          46.173945,
          46.438045,
          49.206341,
          47.311169,
          48.358704,
          48.38917,
          49.093801,
          45.694479,
          48.037483,
          48.061459,
          46.580435,
          49.17918,
          45.288,
          49.200931,
          48.213114,
          45.977865,
          48.248763,
          47.967776,
          45.116556,
          48.629464,
          46.665826,
          45.692345,
          48.72693,
          47.372097,
          47.32968,
          47.2667,
          47.641956,
          47.616389,
          48.46501,
          48.312126,
          48.130269,
          48.127625,
          46.3359,
          47.918452,
          47.57,
          45.574098,
          47.473429,
          48.249942,
          47.643806,
          46.92319,
          48.620604,
          55.1741954,
          47.579214,
          45.5658,
          46.113,
          45.1209,
          49.4931,
          45.225,
          46.3429,
          47.4505,
          46.4346
         ],
         "lon": [
          -67.872489,
          -66.128295,
          -65.373544,
          -71.647639,
          -71.351327,
          -70.741843,
          -65.448274,
          -70.881464,
          -67.821154,
          -67.751679,
          -64.653599,
          -70.571248,
          -67.466206,
          -67.464064,
          -70.439851,
          -64.953448,
          -73.6348,
          -65.657287,
          -65.686046,
          -72.926574,
          -66.72793,
          -71.086603,
          -73.411698,
          -67.865536,
          -70.361363,
          -70.549036,
          -67.630719,
          -70.860923,
          -70.911213,
          -70.9389,
          -69.106522,
          -69.128611,
          -71.757324,
          -67.109828,
          -67.416312,
          -68.868579,
          -71.1418,
          -69.21765,
          -61.63694,
          -70.726993,
          -68.620272,
          -66.685285,
          -69.320449,
          -70.366556,
          -67.881931,
          -77.4028571,
          -61.619156,
          -72.0739,
          -71,
          -73.3106,
          -68.4058,
          -73.0608,
          -71.4111,
          -69.1443,
          -70.1728
         ],
         "mode": "markers",
         "type": "scattergeo"
        },
        {
         "lat": [
          48.6,
          49.25,
          49.25,
          46.05,
          46.05,
          46.78,
          49.25,
          47.32,
          48.6,
          48.6,
          48.78,
          46.05,
          48.6,
          48.6,
          46.78,
          49.25,
          45.17,
          49.25,
          49.25,
          46.35,
          49.32,
          48.33,
          45.29,
          48.6,
          47.36,
          46.05,
          48.6,
          47.32,
          47.32,
          47.32,
          47.81,
          47.81,
          48.52,
          49.32,
          48.6,
          48.07,
          46.05,
          47.81,
          47.43,
          46.05,
          47.81,
          49.32,
          47.81,
          47.36,
          48.6,
          55.37,
          47.43,
          45.44,
          46.05,
          45.29,
          49.26,
          45.29,
          46.05,
          47.81,
          47.36
         ],
         "lon": [
          -68.19,
          -65.32,
          -65.32,
          -71.27,
          -71.27,
          -71.29,
          -65.32,
          -71.15,
          -68.19,
          -68.19,
          -64.48,
          -71.27,
          -68.19,
          -68.19,
          -71.29,
          -65.32,
          -73.68,
          -65.32,
          -65.32,
          -72.68,
          -67.38,
          -71,
          -73.35,
          -68.19,
          -70.03,
          -71.27,
          -68.19,
          -71.15,
          -71.15,
          -71.15,
          -69.55,
          -69.55,
          -72.27,
          -67.38,
          -68.19,
          -69.56,
          -71.27,
          -69.55,
          -61.77,
          -71.27,
          -69.55,
          -67.38,
          -69.55,
          -70.03,
          -68.19,
          -77.57,
          -61.77,
          -71.69,
          -71.27,
          -73.35,
          -68.15,
          -73.35,
          -71.27,
          -69.55,
          -70.03
         ],
         "type": "scattergeo"
        }
       ],
       "layout": {
        "geo": {
         "fitbounds": "locations"
        },
        "template": {
         "data": {
          "bar": [
           {
            "error_x": {
             "color": "#2a3f5f"
            },
            "error_y": {
             "color": "#2a3f5f"
            },
            "marker": {
             "line": {
              "color": "#E5ECF6",
              "width": 0.5
             },
             "pattern": {
              "fillmode": "overlay",
              "size": 10,
              "solidity": 0.2
             }
            },
            "type": "bar"
           }
          ],
          "barpolar": [
           {
            "marker": {
             "line": {
              "color": "#E5ECF6",
              "width": 0.5
             },
             "pattern": {
              "fillmode": "overlay",
              "size": 10,
              "solidity": 0.2
             }
            },
            "type": "barpolar"
           }
          ],
          "carpet": [
           {
            "aaxis": {
             "endlinecolor": "#2a3f5f",
             "gridcolor": "white",
             "linecolor": "white",
             "minorgridcolor": "white",
             "startlinecolor": "#2a3f5f"
            },
            "baxis": {
             "endlinecolor": "#2a3f5f",
             "gridcolor": "white",
             "linecolor": "white",
             "minorgridcolor": "white",
             "startlinecolor": "#2a3f5f"
            },
            "type": "carpet"
           }
          ],
          "choropleth": [
           {
            "colorbar": {
             "outlinewidth": 0,
             "ticks": ""
            },
            "type": "choropleth"
           }
          ],
          "contour": [
           {
            "colorbar": {
             "outlinewidth": 0,
             "ticks": ""
            },
            "colorscale": [
             [
              0,
              "#0d0887"
             ],
             [
              0.1111111111111111,
              "#46039f"
             ],
             [
              0.2222222222222222,
              "#7201a8"
             ],
             [
              0.3333333333333333,
              "#9c179e"
             ],
             [
              0.4444444444444444,
              "#bd3786"
             ],
             [
              0.5555555555555556,
              "#d8576b"
             ],
             [
              0.6666666666666666,
              "#ed7953"
             ],
             [
              0.7777777777777778,
              "#fb9f3a"
             ],
             [
              0.8888888888888888,
              "#fdca26"
             ],
             [
              1,
              "#f0f921"
             ]
            ],
            "type": "contour"
           }
          ],
          "contourcarpet": [
           {
            "colorbar": {
             "outlinewidth": 0,
             "ticks": ""
            },
            "type": "contourcarpet"
           }
          ],
          "heatmap": [
           {
            "colorbar": {
             "outlinewidth": 0,
             "ticks": ""
            },
            "colorscale": [
             [
              0,
              "#0d0887"
             ],
             [
              0.1111111111111111,
              "#46039f"
             ],
             [
              0.2222222222222222,
              "#7201a8"
             ],
             [
              0.3333333333333333,
              "#9c179e"
             ],
             [
              0.4444444444444444,
              "#bd3786"
             ],
             [
              0.5555555555555556,
              "#d8576b"
             ],
             [
              0.6666666666666666,
              "#ed7953"
             ],
             [
              0.7777777777777778,
              "#fb9f3a"
             ],
             [
              0.8888888888888888,
              "#fdca26"
             ],
             [
              1,
              "#f0f921"
             ]
            ],
            "type": "heatmap"
           }
          ],
          "heatmapgl": [
           {
            "colorbar": {
             "outlinewidth": 0,
             "ticks": ""
            },
            "colorscale": [
             [
              0,
              "#0d0887"
             ],
             [
              0.1111111111111111,
              "#46039f"
             ],
             [
              0.2222222222222222,
              "#7201a8"
             ],
             [
              0.3333333333333333,
              "#9c179e"
             ],
             [
              0.4444444444444444,
              "#bd3786"
             ],
             [
              0.5555555555555556,
              "#d8576b"
             ],
             [
              0.6666666666666666,
              "#ed7953"
             ],
             [
              0.7777777777777778,
              "#fb9f3a"
             ],
             [
              0.8888888888888888,
              "#fdca26"
             ],
             [
              1,
              "#f0f921"
             ]
            ],
            "type": "heatmapgl"
           }
          ],
          "histogram": [
           {
            "marker": {
             "pattern": {
              "fillmode": "overlay",
              "size": 10,
              "solidity": 0.2
             }
            },
            "type": "histogram"
           }
          ],
          "histogram2d": [
           {
            "colorbar": {
             "outlinewidth": 0,
             "ticks": ""
            },
            "colorscale": [
             [
              0,
              "#0d0887"
             ],
             [
              0.1111111111111111,
              "#46039f"
             ],
             [
              0.2222222222222222,
              "#7201a8"
             ],
             [
              0.3333333333333333,
              "#9c179e"
             ],
             [
              0.4444444444444444,
              "#bd3786"
             ],
             [
              0.5555555555555556,
              "#d8576b"
             ],
             [
              0.6666666666666666,
              "#ed7953"
             ],
             [
              0.7777777777777778,
              "#fb9f3a"
             ],
             [
              0.8888888888888888,
              "#fdca26"
             ],
             [
              1,
              "#f0f921"
             ]
            ],
            "type": "histogram2d"
           }
          ],
          "histogram2dcontour": [
           {
            "colorbar": {
             "outlinewidth": 0,
             "ticks": ""
            },
            "colorscale": [
             [
              0,
              "#0d0887"
             ],
             [
              0.1111111111111111,
              "#46039f"
             ],
             [
              0.2222222222222222,
              "#7201a8"
             ],
             [
              0.3333333333333333,
              "#9c179e"
             ],
             [
              0.4444444444444444,
              "#bd3786"
             ],
             [
              0.5555555555555556,
              "#d8576b"
             ],
             [
              0.6666666666666666,
              "#ed7953"
             ],
             [
              0.7777777777777778,
              "#fb9f3a"
             ],
             [
              0.8888888888888888,
              "#fdca26"
             ],
             [
              1,
              "#f0f921"
             ]
            ],
            "type": "histogram2dcontour"
           }
          ],
          "mesh3d": [
           {
            "colorbar": {
             "outlinewidth": 0,
             "ticks": ""
            },
            "type": "mesh3d"
           }
          ],
          "parcoords": [
           {
            "line": {
             "colorbar": {
              "outlinewidth": 0,
              "ticks": ""
             }
            },
            "type": "parcoords"
           }
          ],
          "pie": [
           {
            "automargin": true,
            "type": "pie"
           }
          ],
          "scatter": [
           {
            "fillpattern": {
             "fillmode": "overlay",
             "size": 10,
             "solidity": 0.2
            },
            "type": "scatter"
           }
          ],
          "scatter3d": [
           {
            "line": {
             "colorbar": {
              "outlinewidth": 0,
              "ticks": ""
             }
            },
            "marker": {
             "colorbar": {
              "outlinewidth": 0,
              "ticks": ""
             }
            },
            "type": "scatter3d"
           }
          ],
          "scattercarpet": [
           {
            "marker": {
             "colorbar": {
              "outlinewidth": 0,
              "ticks": ""
             }
            },
            "type": "scattercarpet"
           }
          ],
          "scattergeo": [
           {
            "marker": {
             "colorbar": {
              "outlinewidth": 0,
              "ticks": ""
             }
            },
            "type": "scattergeo"
           }
          ],
          "scattergl": [
           {
            "marker": {
             "colorbar": {
              "outlinewidth": 0,
              "ticks": ""
             }
            },
            "type": "scattergl"
           }
          ],
          "scattermapbox": [
           {
            "marker": {
             "colorbar": {
              "outlinewidth": 0,
              "ticks": ""
             }
            },
            "type": "scattermapbox"
           }
          ],
          "scatterpolar": [
           {
            "marker": {
             "colorbar": {
              "outlinewidth": 0,
              "ticks": ""
             }
            },
            "type": "scatterpolar"
           }
          ],
          "scatterpolargl": [
           {
            "marker": {
             "colorbar": {
              "outlinewidth": 0,
              "ticks": ""
             }
            },
            "type": "scatterpolargl"
           }
          ],
          "scatterternary": [
           {
            "marker": {
             "colorbar": {
              "outlinewidth": 0,
              "ticks": ""
             }
            },
            "type": "scatterternary"
           }
          ],
          "surface": [
           {
            "colorbar": {
             "outlinewidth": 0,
             "ticks": ""
            },
            "colorscale": [
             [
              0,
              "#0d0887"
             ],
             [
              0.1111111111111111,
              "#46039f"
             ],
             [
              0.2222222222222222,
              "#7201a8"
             ],
             [
              0.3333333333333333,
              "#9c179e"
             ],
             [
              0.4444444444444444,
              "#bd3786"
             ],
             [
              0.5555555555555556,
              "#d8576b"
             ],
             [
              0.6666666666666666,
              "#ed7953"
             ],
             [
              0.7777777777777778,
              "#fb9f3a"
             ],
             [
              0.8888888888888888,
              "#fdca26"
             ],
             [
              1,
              "#f0f921"
             ]
            ],
            "type": "surface"
           }
          ],
          "table": [
           {
            "cells": {
             "fill": {
              "color": "#EBF0F8"
             },
             "line": {
              "color": "white"
             }
            },
            "header": {
             "fill": {
              "color": "#C8D4E3"
             },
             "line": {
              "color": "white"
             }
            },
            "type": "table"
           }
          ]
         },
         "layout": {
          "annotationdefaults": {
           "arrowcolor": "#2a3f5f",
           "arrowhead": 0,
           "arrowwidth": 1
          },
          "autotypenumbers": "strict",
          "coloraxis": {
           "colorbar": {
            "outlinewidth": 0,
            "ticks": ""
           }
          },
          "colorscale": {
           "diverging": [
            [
             0,
             "#8e0152"
            ],
            [
             0.1,
             "#c51b7d"
            ],
            [
             0.2,
             "#de77ae"
            ],
            [
             0.3,
             "#f1b6da"
            ],
            [
             0.4,
             "#fde0ef"
            ],
            [
             0.5,
             "#f7f7f7"
            ],
            [
             0.6,
             "#e6f5d0"
            ],
            [
             0.7,
             "#b8e186"
            ],
            [
             0.8,
             "#7fbc41"
            ],
            [
             0.9,
             "#4d9221"
            ],
            [
             1,
             "#276419"
            ]
           ],
           "sequential": [
            [
             0,
             "#0d0887"
            ],
            [
             0.1111111111111111,
             "#46039f"
            ],
            [
             0.2222222222222222,
             "#7201a8"
            ],
            [
             0.3333333333333333,
             "#9c179e"
            ],
            [
             0.4444444444444444,
             "#bd3786"
            ],
            [
             0.5555555555555556,
             "#d8576b"
            ],
            [
             0.6666666666666666,
             "#ed7953"
            ],
            [
             0.7777777777777778,
             "#fb9f3a"
            ],
            [
             0.8888888888888888,
             "#fdca26"
            ],
            [
             1,
             "#f0f921"
            ]
           ],
           "sequentialminus": [
            [
             0,
             "#0d0887"
            ],
            [
             0.1111111111111111,
             "#46039f"
            ],
            [
             0.2222222222222222,
             "#7201a8"
            ],
            [
             0.3333333333333333,
             "#9c179e"
            ],
            [
             0.4444444444444444,
             "#bd3786"
            ],
            [
             0.5555555555555556,
             "#d8576b"
            ],
            [
             0.6666666666666666,
             "#ed7953"
            ],
            [
             0.7777777777777778,
             "#fb9f3a"
            ],
            [
             0.8888888888888888,
             "#fdca26"
            ],
            [
             1,
             "#f0f921"
            ]
           ]
          },
          "colorway": [
           "#636efa",
           "#EF553B",
           "#00cc96",
           "#ab63fa",
           "#FFA15A",
           "#19d3f3",
           "#FF6692",
           "#B6E880",
           "#FF97FF",
           "#FECB52"
          ],
          "font": {
           "color": "#2a3f5f"
          },
          "geo": {
           "bgcolor": "white",
           "lakecolor": "white",
           "landcolor": "#E5ECF6",
           "showlakes": true,
           "showland": true,
           "subunitcolor": "white"
          },
          "hoverlabel": {
           "align": "left"
          },
          "hovermode": "closest",
          "mapbox": {
           "style": "light"
          },
          "paper_bgcolor": "white",
          "plot_bgcolor": "#E5ECF6",
          "polar": {
           "angularaxis": {
            "gridcolor": "white",
            "linecolor": "white",
            "ticks": ""
           },
           "bgcolor": "#E5ECF6",
           "radialaxis": {
            "gridcolor": "white",
            "linecolor": "white",
            "ticks": ""
           }
          },
          "scene": {
           "xaxis": {
            "backgroundcolor": "#E5ECF6",
            "gridcolor": "white",
            "gridwidth": 2,
            "linecolor": "white",
            "showbackground": true,
            "ticks": "",
            "zerolinecolor": "white"
           },
           "yaxis": {
            "backgroundcolor": "#E5ECF6",
            "gridcolor": "white",
            "gridwidth": 2,
            "linecolor": "white",
            "showbackground": true,
            "ticks": "",
            "zerolinecolor": "white"
           },
           "zaxis": {
            "backgroundcolor": "#E5ECF6",
            "gridcolor": "white",
            "gridwidth": 2,
            "linecolor": "white",
            "showbackground": true,
            "ticks": "",
            "zerolinecolor": "white"
           }
          },
          "shapedefaults": {
           "line": {
            "color": "#2a3f5f"
           }
          },
          "ternary": {
           "aaxis": {
            "gridcolor": "white",
            "linecolor": "white",
            "ticks": ""
           },
           "baxis": {
            "gridcolor": "white",
            "linecolor": "white",
            "ticks": ""
           },
           "bgcolor": "#E5ECF6",
           "caxis": {
            "gridcolor": "white",
            "linecolor": "white",
            "ticks": ""
           }
          },
          "title": {
           "x": 0.05
          },
          "xaxis": {
           "automargin": true,
           "gridcolor": "white",
           "linecolor": "white",
           "ticks": "",
           "title": {
            "standoff": 15
           },
           "zerolinecolor": "white",
           "zerolinewidth": 2
          },
          "yaxis": {
           "automargin": true,
           "gridcolor": "white",
           "linecolor": "white",
           "ticks": "",
           "title": {
            "standoff": 15
           },
           "zerolinecolor": "white",
           "zerolinewidth": 2
          }
         }
        }
       }
      }
     },
     "metadata": {},
     "output_type": "display_data"
    }
   ],
   "source": [
    "import plotly.graph_objects as go\n",
    "\n",
    "fig = go.Figure()\n",
    "fig.add_trace(go.Scattergeo(\n",
    "        lat=df_wf_station['latitude'],\n",
    "        lon=df_wf_station['longitude'],\n",
    "        mode='markers',\n",
    "        \n",
    "    ))\n",
    "fig.add_trace(go.Scattergeo(lat=df_wf_station.latitude_station, lon=df_wf_station.longitude_station))\n",
    "\n",
    "fig.update_geos(fitbounds=\"locations\") \n",
    "\n",
    "fig.show()"
   ]
  },
  {
   "cell_type": "code",
   "execution_count": null,
   "id": "109b6ea2",
   "metadata": {},
   "outputs": [],
   "source": []
  }
 ],
 "metadata": {
  "kernelspec": {
   "display_name": "erdos_summer_2025",
   "language": "python",
   "name": "python3"
  },
  "language_info": {
   "codemirror_mode": {
    "name": "ipython",
    "version": 3
   },
   "file_extension": ".py",
   "mimetype": "text/x-python",
   "name": "python",
   "nbconvert_exporter": "python",
   "pygments_lexer": "ipython3",
   "version": "3.12.10"
  }
 },
 "nbformat": 4,
 "nbformat_minor": 5
}
