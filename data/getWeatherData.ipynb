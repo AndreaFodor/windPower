{
 "cells": [
  {
   "cell_type": "code",
   "execution_count": 1,
   "id": "48517a24",
   "metadata": {},
   "outputs": [],
   "source": [
    "from selenium import webdriver\n",
    "from selenium.webdriver.firefox.options import Options\n",
    "from selenium.webdriver.common.by import By\n",
    "import pandas as pd\n",
    "import time\n",
    "import os \n",
    "\n",
    "try:\n",
    "    os.makedirs(\"./weather\")\n",
    "except FileExistsError:\n",
    "    # directory already exists\n",
    "    pass\n",
    "\n",
    "# Setting options for Firefox\n",
    "# !!!! USERS NEED TO CHANGE THE PATH TO THE DOWNLOAD DIRECTORY !!!!\n",
    "options = Options()\n",
    "options.add_argument(\"-headless\")\n",
    "options.set_preference(\"browser.download.folderList\", 2)\n",
    "options.set_preference(\"browser.download.manager.showWhenStarting\", False)\n",
    "options.set_preference(\"browser.download.dir\", '/Users/andreafodor/erdos_summer2025/windPower/data/weather')\n",
    "options.set_preference(\"browser.helperApps.neverAsk.saveToDisk\", \"text/csv\")\n",
    "\n",
    "driver = webdriver.Firefox(options=options)\n",
    "# URL of the historical weather data for Quebec\n",
    "url = \"https://dd.weather.gc.ca/climate/observations/hourly/csv/QC/\"\n",
    "\n",
    "# Open the webpage\n",
    "driver.get(url)\n",
    "\n",
    "time.sleep(5)\n",
    "\n",
    "# Scroll to the bottom to ensure all data is loaded\n",
    "driver.execute_script(\"window.scrollTo(0, document.body.scrollHeight);\")\n",
    "time.sleep(2)\n",
    "\n",
    "years_to_download = ['2019', '2020', '2021', '2022', '2023']\n",
    "for element in driver.find_elements(By.XPATH, \"/html/body/pre/a\"):\n",
    "    text = element.get_attribute('textContent')\n",
    "    if os.path.exists(f'./weather/{text}'):\n",
    "        continue\n",
    "    if '.csv' in text and any (year in text for year in years_to_download):\n",
    "        #print(text)\n",
    "        element.click()\n",
    "\n",
    "driver.quit()"
   ]
  },
  {
   "cell_type": "code",
   "execution_count": null,
   "id": "eef8234c",
   "metadata": {},
   "outputs": [],
   "source": []
  }
 ],
 "metadata": {
  "kernelspec": {
   "display_name": "Python 3 (ipykernel)",
   "language": "python",
   "name": "python3"
  },
  "language_info": {
   "codemirror_mode": {
    "name": "ipython",
    "version": 3
   },
   "file_extension": ".py",
   "mimetype": "text/x-python",
   "name": "python",
   "nbconvert_exporter": "python",
   "pygments_lexer": "ipython3",
   "version": "3.12.10"
  }
 },
 "nbformat": 4,
 "nbformat_minor": 5
}
